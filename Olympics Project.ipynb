{
 "cells": [
  {
   "cell_type": "code",
   "execution_count": 3,
   "id": "db447e09",
   "metadata": {},
   "outputs": [],
   "source": [
    "import pandas as pd"
   ]
  },
  {
   "cell_type": "code",
   "execution_count": 7,
   "id": "dfff48c2",
   "metadata": {},
   "outputs": [],
   "source": [
    "oly=pd.read_csv(\"Olympics.csv\")"
   ]
  },
  {
   "cell_type": "code",
   "execution_count": 8,
   "id": "58fdfb31",
   "metadata": {},
   "outputs": [
    {
     "data": {
      "text/html": [
       "<div>\n",
       "<style scoped>\n",
       "    .dataframe tbody tr th:only-of-type {\n",
       "        vertical-align: middle;\n",
       "    }\n",
       "\n",
       "    .dataframe tbody tr th {\n",
       "        vertical-align: top;\n",
       "    }\n",
       "\n",
       "    .dataframe thead th {\n",
       "        text-align: right;\n",
       "    }\n",
       "</style>\n",
       "<table border=\"1\" class=\"dataframe\">\n",
       "  <thead>\n",
       "    <tr style=\"text-align: right;\">\n",
       "      <th></th>\n",
       "      <th>id</th>\n",
       "      <th>name</th>\n",
       "      <th>sex</th>\n",
       "      <th>age</th>\n",
       "      <th>height</th>\n",
       "      <th>weight</th>\n",
       "      <th>team</th>\n",
       "      <th>noc</th>\n",
       "      <th>games</th>\n",
       "      <th>year</th>\n",
       "      <th>season</th>\n",
       "      <th>city</th>\n",
       "      <th>sport</th>\n",
       "      <th>event</th>\n",
       "      <th>medal</th>\n",
       "    </tr>\n",
       "  </thead>\n",
       "  <tbody>\n",
       "    <tr>\n",
       "      <th>0</th>\n",
       "      <td>1</td>\n",
       "      <td>A Dijiang</td>\n",
       "      <td>M</td>\n",
       "      <td>24</td>\n",
       "      <td>180.0</td>\n",
       "      <td>80.0</td>\n",
       "      <td>China</td>\n",
       "      <td>CHN</td>\n",
       "      <td>1992 Summer</td>\n",
       "      <td>1992</td>\n",
       "      <td>Summer</td>\n",
       "      <td>Barcelona</td>\n",
       "      <td>Basketball</td>\n",
       "      <td>Basketball Men's Basketball</td>\n",
       "      <td>NaN</td>\n",
       "    </tr>\n",
       "    <tr>\n",
       "      <th>1</th>\n",
       "      <td>2</td>\n",
       "      <td>A Lamusi</td>\n",
       "      <td>M</td>\n",
       "      <td>23</td>\n",
       "      <td>170.0</td>\n",
       "      <td>60.0</td>\n",
       "      <td>China</td>\n",
       "      <td>CHN</td>\n",
       "      <td>2012 Summer</td>\n",
       "      <td>2012</td>\n",
       "      <td>Summer</td>\n",
       "      <td>London</td>\n",
       "      <td>Judo</td>\n",
       "      <td>Judo Men's Extra-Lightweight</td>\n",
       "      <td>NaN</td>\n",
       "    </tr>\n",
       "    <tr>\n",
       "      <th>2</th>\n",
       "      <td>3</td>\n",
       "      <td>Gunnar Nielsen Aaby</td>\n",
       "      <td>M</td>\n",
       "      <td>24</td>\n",
       "      <td>NaN</td>\n",
       "      <td>NaN</td>\n",
       "      <td>Denmark</td>\n",
       "      <td>DEN</td>\n",
       "      <td>1920 Summer</td>\n",
       "      <td>1920</td>\n",
       "      <td>Summer</td>\n",
       "      <td>Antwerpen</td>\n",
       "      <td>Football</td>\n",
       "      <td>Football Men's Football</td>\n",
       "      <td>NaN</td>\n",
       "    </tr>\n",
       "    <tr>\n",
       "      <th>3</th>\n",
       "      <td>4</td>\n",
       "      <td>Edgar Lindenau Aabye</td>\n",
       "      <td>M</td>\n",
       "      <td>34</td>\n",
       "      <td>NaN</td>\n",
       "      <td>NaN</td>\n",
       "      <td>Denmark/Sweden</td>\n",
       "      <td>DEN</td>\n",
       "      <td>1900 Summer</td>\n",
       "      <td>1900</td>\n",
       "      <td>Summer</td>\n",
       "      <td>Paris</td>\n",
       "      <td>Tug-Of-War</td>\n",
       "      <td>Tug-Of-War Men's Tug-Of-War</td>\n",
       "      <td>Gold</td>\n",
       "    </tr>\n",
       "    <tr>\n",
       "      <th>4</th>\n",
       "      <td>5</td>\n",
       "      <td>Christine Jacoba Aaftink</td>\n",
       "      <td>F</td>\n",
       "      <td>21</td>\n",
       "      <td>185.0</td>\n",
       "      <td>82.0</td>\n",
       "      <td>Netherlands</td>\n",
       "      <td>NED</td>\n",
       "      <td>1988 Winter</td>\n",
       "      <td>1988</td>\n",
       "      <td>Winter</td>\n",
       "      <td>Calgary</td>\n",
       "      <td>Speed Skating</td>\n",
       "      <td>Speed Skating Women's 500 metres</td>\n",
       "      <td>NaN</td>\n",
       "    </tr>\n",
       "    <tr>\n",
       "      <th>...</th>\n",
       "      <td>...</td>\n",
       "      <td>...</td>\n",
       "      <td>...</td>\n",
       "      <td>...</td>\n",
       "      <td>...</td>\n",
       "      <td>...</td>\n",
       "      <td>...</td>\n",
       "      <td>...</td>\n",
       "      <td>...</td>\n",
       "      <td>...</td>\n",
       "      <td>...</td>\n",
       "      <td>...</td>\n",
       "      <td>...</td>\n",
       "      <td>...</td>\n",
       "      <td>...</td>\n",
       "    </tr>\n",
       "    <tr>\n",
       "      <th>95</th>\n",
       "      <td>32</td>\n",
       "      <td>Olav Augunson Aarnes</td>\n",
       "      <td>M</td>\n",
       "      <td>23</td>\n",
       "      <td>NaN</td>\n",
       "      <td>NaN</td>\n",
       "      <td>Norway</td>\n",
       "      <td>NOR</td>\n",
       "      <td>1912 Summer</td>\n",
       "      <td>1912</td>\n",
       "      <td>Summer</td>\n",
       "      <td>Stockholm</td>\n",
       "      <td>Athletics</td>\n",
       "      <td>Athletics Men's High Jump</td>\n",
       "      <td>NaN</td>\n",
       "    </tr>\n",
       "    <tr>\n",
       "      <th>96</th>\n",
       "      <td>33</td>\n",
       "      <td>Mika Lauri Aarnikka</td>\n",
       "      <td>M</td>\n",
       "      <td>24</td>\n",
       "      <td>187.0</td>\n",
       "      <td>76.0</td>\n",
       "      <td>Finland</td>\n",
       "      <td>FIN</td>\n",
       "      <td>1992 Summer</td>\n",
       "      <td>1992</td>\n",
       "      <td>Summer</td>\n",
       "      <td>Barcelona</td>\n",
       "      <td>Sailing</td>\n",
       "      <td>Sailing Men's Two Person Dinghy</td>\n",
       "      <td>NaN</td>\n",
       "    </tr>\n",
       "    <tr>\n",
       "      <th>97</th>\n",
       "      <td>33</td>\n",
       "      <td>Mika Lauri Aarnikka</td>\n",
       "      <td>M</td>\n",
       "      <td>28</td>\n",
       "      <td>187.0</td>\n",
       "      <td>76.0</td>\n",
       "      <td>Finland</td>\n",
       "      <td>FIN</td>\n",
       "      <td>1996 Summer</td>\n",
       "      <td>1996</td>\n",
       "      <td>Summer</td>\n",
       "      <td>Atlanta</td>\n",
       "      <td>Sailing</td>\n",
       "      <td>Sailing Men's Two Person Dinghy</td>\n",
       "      <td>NaN</td>\n",
       "    </tr>\n",
       "    <tr>\n",
       "      <th>98</th>\n",
       "      <td>34</td>\n",
       "      <td>Jamale (Djamel-) Aarrass (Ahrass-)</td>\n",
       "      <td>M</td>\n",
       "      <td>30</td>\n",
       "      <td>187.0</td>\n",
       "      <td>76.0</td>\n",
       "      <td>France</td>\n",
       "      <td>FRA</td>\n",
       "      <td>2012 Summer</td>\n",
       "      <td>2012</td>\n",
       "      <td>Summer</td>\n",
       "      <td>London</td>\n",
       "      <td>Athletics</td>\n",
       "      <td>\"Athletics Men's 1,500 metres\"</td>\n",
       "      <td>NaN</td>\n",
       "    </tr>\n",
       "    <tr>\n",
       "      <th>99</th>\n",
       "      <td>35</td>\n",
       "      <td>Dagfinn Sverre Aarskog</td>\n",
       "      <td>M</td>\n",
       "      <td>24</td>\n",
       "      <td>190.0</td>\n",
       "      <td>98.0</td>\n",
       "      <td>Norway</td>\n",
       "      <td>NOR</td>\n",
       "      <td>1998 Winter</td>\n",
       "      <td>1998</td>\n",
       "      <td>Winter</td>\n",
       "      <td>Nagano</td>\n",
       "      <td>Bobsleigh</td>\n",
       "      <td>Bobsleigh Men's Four</td>\n",
       "      <td>NaN</td>\n",
       "    </tr>\n",
       "  </tbody>\n",
       "</table>\n",
       "<p>100 rows × 15 columns</p>\n",
       "</div>"
      ],
      "text/plain": [
       "    id                                name sex  age  height  weight  \\\n",
       "0    1                           A Dijiang   M   24   180.0    80.0   \n",
       "1    2                            A Lamusi   M   23   170.0    60.0   \n",
       "2    3                 Gunnar Nielsen Aaby   M   24     NaN     NaN   \n",
       "3    4                Edgar Lindenau Aabye   M   34     NaN     NaN   \n",
       "4    5            Christine Jacoba Aaftink   F   21   185.0    82.0   \n",
       "..  ..                                 ...  ..  ...     ...     ...   \n",
       "95  32                Olav Augunson Aarnes   M   23     NaN     NaN   \n",
       "96  33                 Mika Lauri Aarnikka   M   24   187.0    76.0   \n",
       "97  33                 Mika Lauri Aarnikka   M   28   187.0    76.0   \n",
       "98  34  Jamale (Djamel-) Aarrass (Ahrass-)   M   30   187.0    76.0   \n",
       "99  35              Dagfinn Sverre Aarskog   M   24   190.0    98.0   \n",
       "\n",
       "              team  noc        games  year  season       city          sport  \\\n",
       "0            China  CHN  1992 Summer  1992  Summer  Barcelona     Basketball   \n",
       "1            China  CHN  2012 Summer  2012  Summer     London           Judo   \n",
       "2          Denmark  DEN  1920 Summer  1920  Summer  Antwerpen       Football   \n",
       "3   Denmark/Sweden  DEN  1900 Summer  1900  Summer      Paris     Tug-Of-War   \n",
       "4      Netherlands  NED  1988 Winter  1988  Winter    Calgary  Speed Skating   \n",
       "..             ...  ...          ...   ...     ...        ...            ...   \n",
       "95          Norway  NOR  1912 Summer  1912  Summer  Stockholm      Athletics   \n",
       "96         Finland  FIN  1992 Summer  1992  Summer  Barcelona        Sailing   \n",
       "97         Finland  FIN  1996 Summer  1996  Summer    Atlanta        Sailing   \n",
       "98          France  FRA  2012 Summer  2012  Summer     London      Athletics   \n",
       "99          Norway  NOR  1998 Winter  1998  Winter     Nagano      Bobsleigh   \n",
       "\n",
       "                               event medal  \n",
       "0        Basketball Men's Basketball   NaN  \n",
       "1       Judo Men's Extra-Lightweight   NaN  \n",
       "2            Football Men's Football   NaN  \n",
       "3        Tug-Of-War Men's Tug-Of-War  Gold  \n",
       "4   Speed Skating Women's 500 metres   NaN  \n",
       "..                               ...   ...  \n",
       "95         Athletics Men's High Jump   NaN  \n",
       "96   Sailing Men's Two Person Dinghy   NaN  \n",
       "97   Sailing Men's Two Person Dinghy   NaN  \n",
       "98    \"Athletics Men's 1,500 metres\"   NaN  \n",
       "99              Bobsleigh Men's Four   NaN  \n",
       "\n",
       "[100 rows x 15 columns]"
      ]
     },
     "execution_count": 8,
     "metadata": {},
     "output_type": "execute_result"
    }
   ],
   "source": [
    "oly"
   ]
  },
  {
   "cell_type": "code",
   "execution_count": 9,
   "id": "1bd0ddce",
   "metadata": {},
   "outputs": [],
   "source": [
    "sel_colum=['name','medal']"
   ]
  },
  {
   "cell_type": "code",
   "execution_count": 10,
   "id": "28181ee9",
   "metadata": {},
   "outputs": [],
   "source": [
    "oly_sel=oly[sel_colum]"
   ]
  },
  {
   "cell_type": "code",
   "execution_count": 11,
   "id": "bd3307ce",
   "metadata": {},
   "outputs": [
    {
     "name": "stdout",
     "output_type": "stream",
     "text": [
      "                                  name medal\n",
      "0                            A Dijiang   NaN\n",
      "1                             A Lamusi   NaN\n",
      "2                  Gunnar Nielsen Aaby   NaN\n",
      "3                 Edgar Lindenau Aabye  Gold\n",
      "4             Christine Jacoba Aaftink   NaN\n",
      "..                                 ...   ...\n",
      "95                Olav Augunson Aarnes   NaN\n",
      "96                 Mika Lauri Aarnikka   NaN\n",
      "97                 Mika Lauri Aarnikka   NaN\n",
      "98  Jamale (Djamel-) Aarrass (Ahrass-)   NaN\n",
      "99              Dagfinn Sverre Aarskog   NaN\n",
      "\n",
      "[100 rows x 2 columns]\n"
     ]
    }
   ],
   "source": [
    "print(oly_sel)"
   ]
  },
  {
   "cell_type": "code",
   "execution_count": 12,
   "id": "74183e86",
   "metadata": {},
   "outputs": [
    {
     "data": {
      "text/plain": [
       "100"
      ]
     },
     "execution_count": 12,
     "metadata": {},
     "output_type": "execute_result"
    }
   ],
   "source": [
    "oly.name.count()"
   ]
  },
  {
   "cell_type": "code",
   "execution_count": 13,
   "id": "36d5a3f7",
   "metadata": {},
   "outputs": [
    {
     "data": {
      "text/plain": [
       "medal\n",
       "Gold      9\n",
       "Bronze    8\n",
       "Silver    4\n",
       "Name: count, dtype: int64"
      ]
     },
     "execution_count": 13,
     "metadata": {},
     "output_type": "execute_result"
    }
   ],
   "source": [
    "oly.medal.value_counts()"
   ]
  },
  {
   "cell_type": "code",
   "execution_count": 15,
   "id": "7ec41482",
   "metadata": {},
   "outputs": [],
   "source": [
    "gold_medal=oly[oly['medal']=='Gold']\n"
   ]
  },
  {
   "cell_type": "code",
   "execution_count": 18,
   "id": "736aa79c",
   "metadata": {},
   "outputs": [
    {
     "name": "stdout",
     "output_type": "stream",
     "text": [
      "    id                       name sex  age  height  weight            team  \\\n",
      "3    4       Edgar Lindenau Aabye   M   34     NaN     NaN  Denmark/Sweden   \n",
      "42  17    Paavo Johannes Aaltonen   M   28   175.0    64.0         Finland   \n",
      "44  17    Paavo Johannes Aaltonen   M   28   175.0    64.0         Finland   \n",
      "48  17    Paavo Johannes Aaltonen   M   28   175.0    64.0         Finland   \n",
      "60  20         Kjetil Andr Aamodt   M   20   176.0    85.0          Norway   \n",
      "73  20         Kjetil Andr Aamodt   M   30   176.0    85.0          Norway   \n",
      "76  20         Kjetil Andr Aamodt   M   30   176.0    85.0          Norway   \n",
      "78  20         Kjetil Andr Aamodt   M   34   176.0    85.0          Norway   \n",
      "79  21  Ragnhild Margrethe Aamodt   F   27   163.0     NaN          Norway   \n",
      "\n",
      "    noc        games  year  season            city          sport  \\\n",
      "3   DEN  1900 Summer  1900  Summer           Paris     Tug-Of-War   \n",
      "42  FIN  1948 Summer  1948  Summer          London     Gymnastics   \n",
      "44  FIN  1948 Summer  1948  Summer          London     Gymnastics   \n",
      "48  FIN  1948 Summer  1948  Summer          London     Gymnastics   \n",
      "60  NOR  1992 Winter  1992  Winter     Albertville  Alpine Skiing   \n",
      "73  NOR  2002 Winter  2002  Winter  Salt Lake City  Alpine Skiing   \n",
      "76  NOR  2002 Winter  2002  Winter  Salt Lake City  Alpine Skiing   \n",
      "78  NOR  2006 Winter  2006  Winter          Torino  Alpine Skiing   \n",
      "79  NOR  2008 Summer  2008  Summer         Beijing       Handball   \n",
      "\n",
      "                               event medal  \n",
      "3        Tug-Of-War Men's Tug-Of-War  Gold  \n",
      "42  Gymnastics Men's Team All-Around  Gold  \n",
      "44      Gymnastics Men's Horse Vault  Gold  \n",
      "48  Gymnastics Men's Pommelled Horse  Gold  \n",
      "60       Alpine Skiing Men's Super G  Gold  \n",
      "73       Alpine Skiing Men's Super G  Gold  \n",
      "76      Alpine Skiing Men's Combined  Gold  \n",
      "78       Alpine Skiing Men's Super G  Gold  \n",
      "79         Handball Women's Handball  Gold  \n"
     ]
    }
   ],
   "source": [
    "print(gold_medal)"
   ]
  },
  {
   "cell_type": "code",
   "execution_count": 19,
   "id": "1b81cf71",
   "metadata": {},
   "outputs": [],
   "source": [
    "silver_medal=oly[oly['medal']=='Silver']"
   ]
  },
  {
   "cell_type": "code",
   "execution_count": 20,
   "id": "d26d736d",
   "metadata": {},
   "outputs": [],
   "source": [
    "silver_medal=silver_medal.sort_values(by='year')"
   ]
  },
  {
   "cell_type": "code",
   "execution_count": 21,
   "id": "707a7fce",
   "metadata": {},
   "outputs": [
    {
     "data": {
      "text/html": [
       "<div>\n",
       "<style scoped>\n",
       "    .dataframe tbody tr th:only-of-type {\n",
       "        vertical-align: middle;\n",
       "    }\n",
       "\n",
       "    .dataframe tbody tr th {\n",
       "        vertical-align: top;\n",
       "    }\n",
       "\n",
       "    .dataframe thead th {\n",
       "        text-align: right;\n",
       "    }\n",
       "</style>\n",
       "<table border=\"1\" class=\"dataframe\">\n",
       "  <thead>\n",
       "    <tr style=\"text-align: right;\">\n",
       "      <th></th>\n",
       "      <th>name</th>\n",
       "      <th>year</th>\n",
       "    </tr>\n",
       "  </thead>\n",
       "  <tbody>\n",
       "    <tr>\n",
       "      <th>86</th>\n",
       "      <td>Alf Lied Aanning</td>\n",
       "      <td>1920</td>\n",
       "    </tr>\n",
       "    <tr>\n",
       "      <th>63</th>\n",
       "      <td>Kjetil Andr Aamodt</td>\n",
       "      <td>1994</td>\n",
       "    </tr>\n",
       "    <tr>\n",
       "      <th>67</th>\n",
       "      <td>Kjetil Andr Aamodt</td>\n",
       "      <td>1994</td>\n",
       "    </tr>\n",
       "    <tr>\n",
       "      <th>92</th>\n",
       "      <td>Pepijn Aardewijn</td>\n",
       "      <td>1996</td>\n",
       "    </tr>\n",
       "  </tbody>\n",
       "</table>\n",
       "</div>"
      ],
      "text/plain": [
       "                  name  year\n",
       "86    Alf Lied Aanning  1920\n",
       "63  Kjetil Andr Aamodt  1994\n",
       "67  Kjetil Andr Aamodt  1994\n",
       "92    Pepijn Aardewijn  1996"
      ]
     },
     "execution_count": 21,
     "metadata": {},
     "output_type": "execute_result"
    }
   ],
   "source": [
    "silver_medal[['name','year']]"
   ]
  },
  {
   "cell_type": "code",
   "execution_count": 22,
   "id": "ebec9511",
   "metadata": {},
   "outputs": [
    {
     "name": "stdout",
     "output_type": "stream",
     "text": [
      "city            medal \n",
      "Albertville     Bronze    1\n",
      "                Gold      1\n",
      "Antwerpen       Bronze    2\n",
      "                Silver    1\n",
      "Atlanta         Silver    1\n",
      "Beijing         Gold      1\n",
      "Helsinki        Bronze    1\n",
      "Lillehammer     Bronze    1\n",
      "                Silver    2\n",
      "London          Bronze    1\n",
      "                Gold      3\n",
      "Paris           Gold      1\n",
      "Salt Lake City  Gold      2\n",
      "Seoul           Bronze    1\n",
      "Sochi           Bronze    1\n",
      "Torino          Gold      1\n",
      "dtype: int64\n"
     ]
    }
   ],
   "source": [
    "medal_counts =oly.groupby(['city', 'medal']).size()\n",
    "print(medal_counts)"
   ]
  },
  {
   "cell_type": "code",
   "execution_count": 23,
   "id": "63d9bb4d",
   "metadata": {},
   "outputs": [
    {
     "data": {
      "text/html": [
       "<div>\n",
       "<style scoped>\n",
       "    .dataframe tbody tr th:only-of-type {\n",
       "        vertical-align: middle;\n",
       "    }\n",
       "\n",
       "    .dataframe tbody tr th {\n",
       "        vertical-align: top;\n",
       "    }\n",
       "\n",
       "    .dataframe thead th {\n",
       "        text-align: right;\n",
       "    }\n",
       "</style>\n",
       "<table border=\"1\" class=\"dataframe\">\n",
       "  <thead>\n",
       "    <tr style=\"text-align: right;\">\n",
       "      <th></th>\n",
       "      <th>id</th>\n",
       "      <th>age</th>\n",
       "      <th>height</th>\n",
       "      <th>weight</th>\n",
       "      <th>year</th>\n",
       "    </tr>\n",
       "  </thead>\n",
       "  <tbody>\n",
       "    <tr>\n",
       "      <th>count</th>\n",
       "      <td>100.000000</td>\n",
       "      <td>100.000000</td>\n",
       "      <td>84.000000</td>\n",
       "      <td>81.000000</td>\n",
       "      <td>100.000000</td>\n",
       "    </tr>\n",
       "    <tr>\n",
       "      <th>mean</th>\n",
       "      <td>16.240000</td>\n",
       "      <td>28.030000</td>\n",
       "      <td>178.630952</td>\n",
       "      <td>76.882716</td>\n",
       "      <td>1977.200000</td>\n",
       "    </tr>\n",
       "    <tr>\n",
       "      <th>std</th>\n",
       "      <td>8.274483</td>\n",
       "      <td>5.705668</td>\n",
       "      <td>7.029678</td>\n",
       "      <td>12.396388</td>\n",
       "      <td>28.651864</td>\n",
       "    </tr>\n",
       "    <tr>\n",
       "      <th>min</th>\n",
       "      <td>1.000000</td>\n",
       "      <td>17.000000</td>\n",
       "      <td>159.000000</td>\n",
       "      <td>55.500000</td>\n",
       "      <td>1900.000000</td>\n",
       "    </tr>\n",
       "    <tr>\n",
       "      <th>25%</th>\n",
       "      <td>7.000000</td>\n",
       "      <td>24.000000</td>\n",
       "      <td>175.000000</td>\n",
       "      <td>65.000000</td>\n",
       "      <td>1952.000000</td>\n",
       "    </tr>\n",
       "    <tr>\n",
       "      <th>50%</th>\n",
       "      <td>17.000000</td>\n",
       "      <td>28.000000</td>\n",
       "      <td>176.000000</td>\n",
       "      <td>75.000000</td>\n",
       "      <td>1992.000000</td>\n",
       "    </tr>\n",
       "    <tr>\n",
       "      <th>75%</th>\n",
       "      <td>20.000000</td>\n",
       "      <td>31.250000</td>\n",
       "      <td>185.000000</td>\n",
       "      <td>85.000000</td>\n",
       "      <td>1996.000000</td>\n",
       "    </tr>\n",
       "    <tr>\n",
       "      <th>max</th>\n",
       "      <td>35.000000</td>\n",
       "      <td>54.000000</td>\n",
       "      <td>190.000000</td>\n",
       "      <td>130.000000</td>\n",
       "      <td>2016.000000</td>\n",
       "    </tr>\n",
       "  </tbody>\n",
       "</table>\n",
       "</div>"
      ],
      "text/plain": [
       "               id         age      height      weight         year\n",
       "count  100.000000  100.000000   84.000000   81.000000   100.000000\n",
       "mean    16.240000   28.030000  178.630952   76.882716  1977.200000\n",
       "std      8.274483    5.705668    7.029678   12.396388    28.651864\n",
       "min      1.000000   17.000000  159.000000   55.500000  1900.000000\n",
       "25%      7.000000   24.000000  175.000000   65.000000  1952.000000\n",
       "50%     17.000000   28.000000  176.000000   75.000000  1992.000000\n",
       "75%     20.000000   31.250000  185.000000   85.000000  1996.000000\n",
       "max     35.000000   54.000000  190.000000  130.000000  2016.000000"
      ]
     },
     "execution_count": 23,
     "metadata": {},
     "output_type": "execute_result"
    }
   ],
   "source": [
    "oly.describe()"
   ]
  },
  {
   "cell_type": "code",
   "execution_count": 24,
   "id": "456c61d3",
   "metadata": {},
   "outputs": [
    {
     "name": "stdout",
     "output_type": "stream",
     "text": [
      "city\n",
      "Albertville       1\n",
      "Beijing           1\n",
      "London            3\n",
      "Paris             1\n",
      "Salt Lake City    2\n",
      "Torino            1\n",
      "Name: medal, dtype: int64\n"
     ]
    }
   ],
   "source": [
    "gold_count = gold_medal.groupby('city')['medal'].count()\n",
    "print(gold_count)"
   ]
  },
  {
   "cell_type": "code",
   "execution_count": 25,
   "id": "310d8755",
   "metadata": {},
   "outputs": [],
   "source": [
    "countries_more_than_50_gold = gold_count[gold_count > 50]\n"
   ]
  },
  {
   "cell_type": "code",
   "execution_count": 26,
   "id": "04ad143f",
   "metadata": {},
   "outputs": [
    {
     "data": {
      "text/plain": [
       "Series([], Name: medal, dtype: int64)"
      ]
     },
     "execution_count": 26,
     "metadata": {},
     "output_type": "execute_result"
    }
   ],
   "source": [
    "countries_more_than_50_gold"
   ]
  },
  {
   "cell_type": "code",
   "execution_count": null,
   "id": "04e8c17d",
   "metadata": {},
   "outputs": [],
   "source": [
    "#There is no country with more than 50 medals"
   ]
  },
  {
   "cell_type": "code",
   "execution_count": 27,
   "id": "2b06c4ac",
   "metadata": {},
   "outputs": [
    {
     "name": "stdout",
     "output_type": "stream",
     "text": [
      "name\n",
      "A Dijiang                               0\n",
      "A Lamusi                                0\n",
      "Agnes Erika Aanonsen (-Eyde)            0\n",
      "Alf Lied Aanning                        1\n",
      "Andreea Aanei                           0\n",
      "Antti Sami Aalto                        0\n",
      "Arvo Ossian Aaltonen                    2\n",
      "Christine Jacoba Aaftink                0\n",
      "Cornelia \\Cor\\\" Aalten (-Strannood)\"    0\n",
      "Dagfinn Sverre Aarskog                  0\n",
      "Edgar Lindenau Aabye                    1\n",
      "Einar Ferdinand \\Einari\\\" Aalto\"        0\n",
      "Evald rma (rman-)                       0\n",
      "Fritz Aanes                             0\n",
      "Gunnar Nielsen Aaby                     0\n",
      "Jamale (Djamel-) Aarrass (Ahrass-)      0\n",
      "Jan-Erik Aarberg                        0\n",
      "Johan Aantjes                           0\n",
      "John Aalberg                            0\n",
      "Jorma Ilmari Aalto                      0\n",
      "Juhamatti Tapio Aaltonen                1\n",
      "Jyri Tapani Aalto                       0\n",
      "Kjetil Andr Aamodt                      8\n",
      "Mika Lauri Aarnikka                     0\n",
      "Minna Maarit Aalto                      0\n",
      "Nils Egil Aaness                        0\n",
      "Olav Augunson Aarnes                    0\n",
      "Paavo Johannes Aaltonen                 5\n",
      "Pepijn Aardewijn                        1\n",
      "Per Knut Aaland                         0\n",
      "Pirjo Hannele Aalto (Mattila-)          0\n",
      "Ragnhild Margrethe Aamodt               1\n",
      "Timo Antero Aaltonen                    0\n",
      "Willemien Aardenburg                    1\n",
      "Win Valdemar Aaltonen                   0\n",
      "Name: medal, dtype: int64\n",
      "\n",
      "\n",
      "The athlete who has won the most medals is Kjetil Andr Aamodt with 8 medals.\n"
     ]
    }
   ],
   "source": [
    "\n",
    "medal_counts = oly.groupby('name')['medal'].count()\n",
    "print(medal_counts)\n",
    "print('\\n')\n",
    "most_medals = medal_counts.idxmax()\n",
    "total_medals = medal_counts.max()\n",
    "\n",
    "print(f\"The athlete who has won the most medals is {most_medals} with {total_medals} medals.\")\n"
   ]
  },
  {
   "cell_type": "code",
   "execution_count": 28,
   "id": "d7db2f52",
   "metadata": {},
   "outputs": [
    {
     "name": "stdout",
     "output_type": "stream",
     "text": [
      "29    Swimming Men's 400 metres Freestyle\n",
      "Name: event, dtype: object\n"
     ]
    }
   ],
   "source": [
    "freestyle_events = oly[oly['event'].str.contains('Freestyle', case=False)]\n",
    "print(freestyle_events['event'])"
   ]
  },
  {
   "cell_type": "code",
   "execution_count": 29,
   "id": "21f39bdc",
   "metadata": {},
   "outputs": [
    {
     "name": "stdout",
     "output_type": "stream",
     "text": [
      "                   sport                                  name  medal_count\n",
      "0          Alpine Skiing                    Kjetil Andr Aamodt           20\n",
      "1       Art Competitions                 Win Valdemar Aaltonen            1\n",
      "2              Athletics  Cornelia \\Cor\\\" Aalten (-Strannood)\"            2\n",
      "3              Athletics                     Evald rma (rman-)            1\n",
      "4              Athletics    Jamale (Djamel-) Aarrass (Ahrass-)            1\n",
      "7              Badminton                     Jyri Tapani Aalto            1\n",
      "8             Basketball                             A Dijiang            1\n",
      "9               Biathlon        Pirjo Hannele Aalto (Mattila-)            1\n",
      "10             Bobsleigh                Dagfinn Sverre Aarskog            1\n",
      "11  Cross Country Skiing                          John Aalberg            8\n",
      "13  Cross Country Skiing                       Per Knut Aaland            8\n",
      "12  Cross Country Skiing                    Jorma Ilmari Aalto            1\n",
      "14              Football                   Gunnar Nielsen Aaby            1\n",
      "16            Gymnastics               Paavo Johannes Aaltonen           16\n",
      "15            Gymnastics                      Alf Lied Aanning            1\n",
      "17              Handball             Ragnhild Margrethe Aamodt            1\n",
      "18                Hockey                  Willemien Aardenburg            1\n",
      "19            Ice Hockey                      Antti Sami Aalto            1\n",
      "20            Ice Hockey              Juhamatti Tapio Aaltonen            1\n",
      "21                  Judo                              A Lamusi            1\n",
      "22                  Luge          Agnes Erika Aanonsen (-Eyde)            1\n",
      "23                Rowing                      Pepijn Aardewijn            2\n",
      "24               Sailing                      Jan-Erik Aarberg            2\n",
      "25               Sailing                   Mika Lauri Aarnikka            2\n",
      "26               Sailing                    Minna Maarit Aalto            2\n",
      "27         Speed Skating              Christine Jacoba Aaftink            6\n",
      "28         Speed Skating                      Nils Egil Aaness            3\n",
      "29              Swimming                  Arvo Ossian Aaltonen            5\n",
      "30              Swimming      Einar Ferdinand \\Einari\\\" Aalto\"            1\n",
      "31            Tug-Of-War                  Edgar Lindenau Aabye            1\n",
      "32            Water Polo                         Johan Aantjes            1\n",
      "33         Weightlifting                         Andreea Aanei            1\n",
      "34             Wrestling                           Fritz Aanes            2\n"
     ]
    }
   ],
   "source": [
    "\n",
    "athlete_medals = oly.groupby(['sport', 'name']).size().reset_index(name='medal_count')\n",
    "\n",
    "# Sort by sport and medal_count in descending order\n",
    "athlete_medals_sorted = athlete_medals.sort_values(by=['sport', 'medal_count'], ascending=[True, False])\n",
    "\n",
    "# Get the top 3 athletes for each sport\n",
    "top_3_athletes_by_sport = athlete_medals_sorted.groupby('sport').head(3)\n",
    "\n",
    "print(top_3_athletes_by_sport)\n",
    "\n",
    "\n"
   ]
  },
  {
   "cell_type": "code",
   "execution_count": 30,
   "id": "6f7d057a",
   "metadata": {},
   "outputs": [
    {
     "name": "stdout",
     "output_type": "stream",
     "text": [
      "    year                     name  Total_Medals\n",
      "4   1920     Arvo Ossian Aaltonen             2\n",
      "9   1948  Paavo Johannes Aaltonen             4\n",
      "25  1992       Kjetil Andr Aamodt             2\n",
      "30  1994       Kjetil Andr Aamodt             3\n",
      "44  2002       Kjetil Andr Aamodt             2\n"
     ]
    }
   ],
   "source": [
    "athlete_medals_count = oly.groupby(['year', 'name'])['medal'].count().reset_index(name='Total_Medals')\n",
    "athletes_more_than_one_medal = athlete_medals_count[athlete_medals_count['Total_Medals']>1]\n",
    "print(athletes_more_than_one_medal[['year', 'name', 'Total_Medals']])"
   ]
  },
  {
   "cell_type": "code",
   "execution_count": 31,
   "id": "cdaff9be",
   "metadata": {},
   "outputs": [
    {
     "name": "stdout",
     "output_type": "stream",
     "text": [
      "No country has won medals in more than 10 different sports.\n"
     ]
    }
   ],
   "source": [
    "country_sport_counts = oly.groupby(['city', 'sport']).size().reset_index(name='MedalCount')\n",
    "countries_medals_per_sport = country_sport_counts.groupby('city')['sport'].count()\n",
    "\n",
    "countries_more_than_10_sports = countries_medals_per_sport[countries_medals_per_sport > 10]\n",
    "\n",
    "if not countries_more_than_10_sports.empty:\n",
    "    print(\"Countries that have won medals in more than 10 different sports:\")\n",
    "    print(countries_more_than_10_sports.index.tolist())\n",
    "else:\n",
    "    print(\"No country has won medals in more than 10 different sports.\")\n"
   ]
  },
  {
   "cell_type": "code",
   "execution_count": 32,
   "id": "cf87a1b8",
   "metadata": {},
   "outputs": [
    {
     "name": "stdout",
     "output_type": "stream",
     "text": [
      "              city  Average_Medals_Per_Athlete\n",
      "0      Albertville                    0.500000\n",
      "1        Antwerpen                    1.000000\n",
      "2           Athina                    0.000000\n",
      "3          Atlanta                    0.333333\n",
      "4        Barcelona                    0.000000\n",
      "5          Beijing                    1.000000\n",
      "6           Berlin                    0.000000\n",
      "7          Calgary                    0.000000\n",
      "8         Helsinki                    0.500000\n",
      "9        Innsbruck                    0.000000\n",
      "10     Lake Placid                    0.000000\n",
      "11     Lillehammer                    0.600000\n",
      "12          London                    1.000000\n",
      "13     Los Angeles                    0.000000\n",
      "14     Mexico City                    0.000000\n",
      "15          Munich                    0.000000\n",
      "16          Nagano                    0.000000\n",
      "17           Paris                    0.500000\n",
      "18  Rio de Janeiro                    0.000000\n",
      "19  Salt Lake City                    1.000000\n",
      "20        Sarajevo                    0.000000\n",
      "21           Seoul                    1.000000\n",
      "22           Sochi                    1.000000\n",
      "23    Squaw Valley                    0.000000\n",
      "24       Stockholm                    0.000000\n",
      "25          Sydney                    0.000000\n",
      "26          Torino                    1.000000\n"
     ]
    }
   ],
   "source": [
    "athlete_medals_count = oly .groupby(['city', 'name'])['medal'].count().reset_index(name='Total_Medals')\n",
    "\n",
    "average_medals_per_athlete = athlete_medals_count.groupby('city')['Total_Medals'].mean().reset_index(name='Average_Medals_Per_Athlete')\n",
    "\n",
    "print(average_medals_per_athlete)"
   ]
  }
 ],
 "metadata": {
  "kernelspec": {
   "display_name": "Python 3 (ipykernel)",
   "language": "python",
   "name": "python3"
  },
  "language_info": {
   "codemirror_mode": {
    "name": "ipython",
    "version": 3
   },
   "file_extension": ".py",
   "mimetype": "text/x-python",
   "name": "python",
   "nbconvert_exporter": "python",
   "pygments_lexer": "ipython3",
   "version": "3.11.5"
  }
 },
 "nbformat": 4,
 "nbformat_minor": 5
}
